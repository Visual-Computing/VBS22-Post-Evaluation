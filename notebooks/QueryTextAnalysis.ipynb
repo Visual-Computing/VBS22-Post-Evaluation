{
 "cells": [
  {
   "cell_type": "markdown",
   "id": "cfe38cde-8488-4c10-9fb2-46722c2ffc1e",
   "metadata": {
    "tags": []
   },
   "source": [
    "## first time setup\n",
    "install packages and configure NLTK"
   ]
  },
  {
   "cell_type": "code",
   "execution_count": null,
   "id": "40695e4a-7d14-4f69-8f8f-fc69e059fb2a",
   "metadata": {
    "tags": []
   },
   "outputs": [],
   "source": [
    "import sys\n",
    "!{sys.executable} -m pip install pandas==1.3.5 numpy==1.24 nltk plotly ipywidgets"
   ]
  },
  {
   "cell_type": "markdown",
   "id": "1aab1624-8f26-4f30-a5f4-35e9043f2d31",
   "metadata": {
    "tags": []
   },
   "source": [
    "## main script"
   ]
  },
  {
   "cell_type": "markdown",
   "id": "595f8f51-7a39-4a95-9033-e6bc92e32e6c",
   "metadata": {
    "tags": []
   },
   "source": [
    "### setup, data loading and filtering"
   ]
  },
  {
   "cell_type": "code",
   "execution_count": null,
   "id": "ef4234b1-1830-492d-8df9-fa3e904b254d",
   "metadata": {
    "tags": []
   },
   "outputs": [],
   "source": [
    "import pandas as pd\n",
    "pd.set_option('display.max_columns', None)  # or 1000\n",
    "pd.set_option('display.max_rows', None)  # or 1000\n",
    "pd.set_option('display.max_colwidth', None)  # or 199\n",
    "import os\n",
    "import numpy as np\n",
    "import nltk\n",
    "import json\n",
    "import plotly.express as px\n",
    "import plotly.graph_objects as go"
   ]
  },
  {
   "cell_type": "code",
   "execution_count": null,
   "id": "fbe62575-6afb-4455-987e-995a8b98b1b2",
   "metadata": {
    "tags": []
   },
   "outputs": [],
   "source": [
    "def load_dataframes(base_dir):\n",
    "    dfs = []\n",
    "    for f in os.listdir(base_dir):\n",
    "        df = pd.read_pickle(f\"{base_dir}/{f}\")\n",
    "\n",
    "        dfs.append(df)\n",
    "\n",
    "    dataset = pd.concat(dfs)\n",
    "    \n",
    "    return dataset"
   ]
  },
  {
   "cell_type": "code",
   "execution_count": null,
   "id": "04c4b4b9-54a0-4b5d-acd1-7847234f39fd",
   "metadata": {},
   "outputs": [],
   "source": [
    "def load_predefined_queries(jsonfile):\n",
    "    \n",
    "    f = open (jsonfile, \"r\")\n",
    "    compdata = json.load(f)\n",
    "    \n",
    "    queries = {}\n",
    "    \n",
    "    for t in compdata[\"description\"][\"tasks\"]:\n",
    "        name = t[\"name\"]\n",
    "        querystr = \"\"\n",
    "        for h in t[\"hints\"]:\n",
    "            if h[\"type\"]==\"TextHint\":\n",
    "                querystr = h[\"text\"]\n",
    "        queries[name] = querystr\n",
    "    \n",
    "    return queries\n",
    "    "
   ]
  },
  {
   "cell_type": "code",
   "execution_count": null,
   "id": "adc1dcf6-09b6-454f-94d0-5429c0a58430",
   "metadata": {},
   "outputs": [],
   "source": [
    "def reformat_value(x):\n",
    "    txt = x[\"value\"]\n",
    "    \n",
    "    prefixes = [\"CLIP: \",\"Temporal CLIP: \"]\n",
    "    \n",
    "    for p in prefixes:\n",
    "        if txt.startswith(p):\n",
    "            txt = txt[len(p):]\n",
    "            \n",
    "    # strip leading and trailing whitespace\n",
    "    txt = txt.strip()\n",
    "    \n",
    "    # remove > \n",
    "    txt = txt.replace('>', '')\n",
    "    \n",
    "    # remove any double spaces \n",
    "    txt = txt.replace('  ', ' ')\n",
    "    \n",
    "    x[\"value\"] = txt\n",
    "    return x"
   ]
  },
  {
   "cell_type": "code",
   "execution_count": null,
   "id": "fd8518c5-823a-4da1-b579-0de719a1df48",
   "metadata": {},
   "outputs": [],
   "source": [
    "dataset = load_dataframes(\"/data/vbse2022/data/dataframes/vbse2022_logs_dataframes/vbse2022\")\n",
    "dataset.shape"
   ]
  },
  {
   "cell_type": "code",
   "execution_count": null,
   "id": "59cd3533-dd1f-4440-baa0-b9cf2fa6eef8",
   "metadata": {
    "tags": []
   },
   "outputs": [],
   "source": [
    "predefinedqueries = load_predefined_queries(\"/data/vbse2022/data/DRES data/VBS Extended Test Nov 11, 2022.json\")\n",
    "print(predefinedqueries)"
   ]
  },
  {
   "cell_type": "code",
   "execution_count": null,
   "id": "634c50f0-e1b0-4548-8d3b-f882e5e4e185",
   "metadata": {
    "tags": []
   },
   "outputs": [],
   "source": [
    "textqueries = dataset.loc[dataset[\"category\"]==\"TEXT\"]\n",
    "textqueries.shape"
   ]
  },
  {
   "cell_type": "code",
   "execution_count": null,
   "id": "9a4e5ad9-303b-492a-a515-1935d2ae23b4",
   "metadata": {},
   "outputs": [],
   "source": [
    "# reformat values\n",
    "textqueries = textqueries.apply(reformat_value, axis=1)"
   ]
  },
  {
   "cell_type": "markdown",
   "id": "35a6be56-8750-42dc-befe-04c9c69ceef3",
   "metadata": {
    "tags": []
   },
   "source": [
    "### query change events\n",
    "- check if initial query changed\n",
    "- add delta length of queries in characters"
   ]
  },
  {
   "cell_type": "code",
   "execution_count": null,
   "id": "ae5fa15f-9640-40b6-9d55-e47a6da105c5",
   "metadata": {
    "tags": []
   },
   "outputs": [],
   "source": [
    "querychanges = pd.DataFrame(columns=list(textqueries.columns.values)+[\"delta_len\"])\n",
    "\n",
    "\n",
    "for task in textqueries[\"task\"].unique():\n",
    "    queries_ta = textqueries.loc[textqueries[\"task\"]==task]\n",
    "    for team in queries_ta[\"team\"].unique():\n",
    "        queries_ta_te = queries_ta.loc[queries_ta[\"team\"]==team]\n",
    "        queries_ta_te = queries_ta_te.sort_values(by=['elapsed_since_task_start_ms'])\n",
    "        \n",
    "        # check if query is different from previous (and first from predefined), otherwise skip\n",
    "        prev_query = predefinedqueries[task]\n",
    "        prev_query_len = len(prev_query)\n",
    "            \n",
    "        for idx in range(0,queries_ta_te.shape[0]):\n",
    "            \n",
    "            if queries_ta_te.iloc[idx][\"value\"] != prev_query:\n",
    "                qlen = len(queries_ta_te.iloc[idx][\"value\"])\n",
    "                \n",
    "                row = queries_ta_te.iloc[idx]\n",
    "                row[\"delta_len\"] = qlen-prev_query_len\n",
    "            \n",
    "                querychanges = querychanges.append(row,ignore_index=True)\n",
    "\n",
    "                prev_query = queries_ta_te.iloc[idx][\"value\"]\n",
    "                prev_query_len = len(prev_query)\n",
    "\n",
    "            \n",
    "print(querychanges)"
   ]
  },
  {
   "cell_type": "markdown",
   "id": "ca322e49-42e7-4e3d-8f53-431f004c22d2",
   "metadata": {},
   "source": [
    "### Plotting\n",
    "- scatter plot of query change times (per task, per team)"
   ]
  },
  {
   "cell_type": "code",
   "execution_count": null,
   "id": "8ad7bdcd-c39a-496e-b653-fbe7eac998dd",
   "metadata": {},
   "outputs": [],
   "source": [
    "def calc_scatter_coords(row,tasknames):\n",
    "    row[\"task_index\"] = tasknames.index(row[\"task\"])\n",
    "    row[\"sec\"] = row[\"elapsed_since_task_start_ms\"]/1000\n",
    "    row[\"secsubm\"] = row[\"correct_submission_time_ms\"]/1000\n",
    "    row[\"entrytype\"] = \"query\"+row[\"team\"][-1]\n",
    "    row[\"entrysubm\"] = \"submission\"+row[\"team\"][-1]\n",
    "    row[\"baseteam\"] = row[\"team\"][:-1]\n",
    "    \n",
    "    return row\n",
    "    \n",
    "\n",
    "def scatterplot_times_per_task_team(plotdata):\n",
    "\n",
    "    scatterdata = plotdata\n",
    "    tasknames = list(scatterdata[\"task\"].unique())\n",
    "    tasknames.sort()\n",
    "    \n",
    "    scatterdata = scatterdata.apply(lambda x: calc_scatter_coords(x,tasknames), axis=1)\n",
    "    \n",
    "    # copy entries that have a submission row\n",
    "    submdata = scatterdata.loc[np.logical_not(np.isnan(scatterdata[\"secsubm\"]))]\n",
    "    submdata[\"entrytype\"] = submdata[\"entrysubm\"]\n",
    "    submdata[\"sec\"] = submdata[\"secsubm\"]\n",
    "    \n",
    "    scatterdata = scatterdata.append(submdata)\n",
    "    \n",
    "    fig = px.scatter(scatterdata, x=\"sec\", y=\"task_index\",color=\"baseteam\",symbol=\"entrytype\",\n",
    "                    symbol_sequence= [\"circle\", \"diamond\",\"triangle-up\",\"triangle-down\",\"circle-open\",\"diamond-open\",\"triangle-up-open\",\"triangle-down-open\"],\n",
    "                    labels={\n",
    "                     \"sec\": \"Time from task start [s]\",\n",
    "                     \"task_index\": \"Task\",\n",
    "                     \"team\": \"Team\"\n",
    "                     },\n",
    "                     height = 1000,\n",
    "                     title=\"Times of query changes and submission per task and team\",\n",
    "                     )\n",
    "\n",
    "    fig.update_layout(\n",
    "        yaxis = dict(\n",
    "            tickmode = 'array',\n",
    "            tickvals = list(range(len(tasknames))),\n",
    "            ticktext = tasknames,\n",
    "        )\n",
    "    )\n",
    "    \n",
    "    fig.show()"
   ]
  },
  {
   "cell_type": "code",
   "execution_count": null,
   "id": "03946286-cc04-4c15-97c4-8f4b2cef1eab",
   "metadata": {},
   "outputs": [],
   "source": [
    "\n",
    "scatterplot_times_per_task_team(querychanges)"
   ]
  }
 ],
 "metadata": {
  "kernelspec": {
   "display_name": "Python 3 (ipykernel)",
   "language": "python",
   "name": "python3"
  },
  "language_info": {
   "codemirror_mode": {
    "name": "ipython",
    "version": 3
   },
   "file_extension": ".py",
   "mimetype": "text/x-python",
   "name": "python",
   "nbconvert_exporter": "python",
   "pygments_lexer": "ipython3",
   "version": "3.8.13"
  }
 },
 "nbformat": 4,
 "nbformat_minor": 5
}

{
 "cells": [
  {
   "cell_type": "markdown",
   "source": [
    "## Import and main settings"
   ],
   "metadata": {
    "collapsed": false,
    "pycharm": {
     "name": "#%% md\n"
    }
   }
  },
  {
   "cell_type": "code",
   "execution_count": 41,
   "outputs": [],
   "source": [
    "import pandas as pd\n",
    "import numpy as np\n",
    "import os\n",
    "import itertools"
   ],
   "metadata": {
    "collapsed": false,
    "pycharm": {
     "name": "#%%\n"
    }
   }
  },
  {
   "cell_type": "code",
   "execution_count": 42,
   "outputs": [],
   "source": [
    "max_records = 10000\n",
    "base_dir=os.path.abspath(\"../\")\n",
    "output_dir=f\"{base_dir}/output\"\n",
    "data_dir = f\"{base_dir}/data\"\n",
    "events_dir=f\"{data_dir}/events\"\n",
    "teams=  ['cvhunter1', 'cvhunter2','cvhunter3', 'cvhunter4',\n",
    "        'visione1','visione2','visione3','visione4',\n",
    "        'vibro1','vibro2','vibro3','vibro4']\n",
    "\n",
    "if not os.path.isdir(output_dir):\n",
    "        os.makedirs(output_dir)"
   ],
   "metadata": {
    "collapsed": false,
    "pycharm": {
     "name": "#%%\n"
    }
   }
  },
  {
   "cell_type": "markdown",
   "source": [
    "## Functions for data processing"
   ],
   "metadata": {
    "collapsed": false,
    "pycharm": {
     "name": "#%% md\n"
    }
   }
  },
  {
   "cell_type": "code",
   "execution_count": 43,
   "outputs": [],
   "source": [
    "# give the dataframe containing all the tasks\n",
    "def get_task_from_taskname(tasks_df, taskname):\n",
    "        return tasks_df[tasks_df['name'] == taskname].iloc[0].to_dict()"
   ],
   "metadata": {
    "collapsed": false,
    "pycharm": {
     "name": "#%%\n"
    }
   }
  },
  {
   "cell_type": "code",
   "execution_count": 44,
   "outputs": [],
   "source": [
    "def get_submissions_count(sub_df):\n",
    "        wrong_sub=sub_df[sub_df['status']=='WRONG']\n",
    "        wrong_sub=wrong_sub.groupby([\"taskName\",\"team\",\"teamFamily\",\"user\"])[['status']].count()\n",
    "        wrong_sub.columns = [\"nWrongSubmissions\"]\n",
    "        correct_sub=sub_df[sub_df['status']=='CORRECT']\n",
    "        correct_sub=correct_sub.groupby([\"taskName\",\"team\",\"teamFamily\",\"user\"])[['status']].count()\n",
    "        correct_sub.columns = [\"nCorrectSubmissions\"]\n",
    "\n",
    "        correct_sub=correct_sub.reset_index()\n",
    "        wrong_sub=wrong_sub.reset_index()\n",
    "        submissions=correct_sub.merge(wrong_sub, on=[\"taskName\",\"team\",\"teamFamily\",\"user\"], how=\"outer\").fillna(0)\n",
    "        submissions=submissions.rename(columns={\"taskName\": \"task\"})\n",
    "        return  submissions.reset_index().drop(columns=['index'])"
   ],
   "metadata": {
    "collapsed": false,
    "pycharm": {
     "name": "#%%\n"
    }
   }
  },
  {
   "cell_type": "code",
   "execution_count": 45,
   "outputs": [],
   "source": [
    " #create the  dataframe containing results for all teams and tasks\n",
    "def get_team_values_df(df,sub_df, task_df, max_rank=10000):\n",
    "        #remove ranks bigger than max_rank\n",
    "        replace_large_ranks = lambda x: np.inf if x > max_rank  else x\n",
    "        df['rank_video'] = df['rank_video'].apply(replace_large_ranks)\n",
    "        df['rank_shot_margin_0'] = df['rank_shot_margin_0'].apply(replace_large_ranks)\n",
    "        df['rank_shot_margin_5'] = df['rank_shot_margin_5'].apply(replace_large_ranks)\n",
    "\n",
    "        # for each (team, user, task), find the minimum ranks and the timestamps\n",
    "        df=df.sort_values('timestamp')\n",
    "        best_video_df = df.loc[df.groupby(['teamFamily','team', 'user', 'task'])['rank_video'].idxmin()]\n",
    "        best_shot_df = df.loc[df.groupby(['teamFamily','team', 'user', 'task'])['rank_shot_margin_0'].idxmin()]\n",
    "        best_shot_df_5secs = df.loc[df.groupby(['teamFamily','team', 'user','task'])['rank_shot_margin_5'].idxmin()]\n",
    "        # find also the time of first and last appearance of a result in the ranked list\n",
    "        df_valid_rankshot = df[~df['rank_shot_margin_0'].isin([np.inf, -np.inf])]\n",
    "        df_valid_rankvideo = df[~df['rank_video'].isin([np.inf, -np.inf])]\n",
    "        first_appearance_time = df_valid_rankshot.loc[df_valid_rankshot.groupby(['teamFamily','team', 'user', 'task'])['timestamp'].idxmin()]\n",
    "        first_appearance_time_video = df_valid_rankvideo.loc[df_valid_rankvideo.groupby(['teamFamily','team', 'user', 'task'])['timestamp'].idxmin()]\n",
    "        last_appearance_time = df_valid_rankshot.loc[df_valid_rankshot.groupby(['teamFamily','team', 'user', 'task'])['timestamp'].idxmax()]\n",
    "\n",
    "        best_video_df = best_video_df.filter(['teamFamily','team', 'user', 'task', 'rank_video', 'timestamp', 'correct_submission_time_ms']).rename(\n",
    "                columns={'timestamp': 'timestamp_best_video'})\n",
    "        best_shot_df = best_shot_df.filter(['teamFamily','team', 'user','task', 'rank_shot_margin_0', 'timestamp']).rename(\n",
    "                columns={'timestamp': 'timestamp_best_shot'})\n",
    "        best_shot_df_5secs = best_shot_df_5secs.filter(\n",
    "                ['teamFamily','team', 'user', 'task', 'rank_shot_margin_5', 'timestamp']).rename(\n",
    "                columns={'timestamp': 'timestamp_best_shot_5secs'})\n",
    "        first_appearance_time = first_appearance_time.filter(['teamFamily','team', 'user', 'task', 'timestamp', 'rank_shot_margin_0']).rename(\n",
    "                columns={'timestamp': 'timestamp_first_appearance', 'rank_shot_margin_0': 'rank_shot_first_appearance'})\n",
    "        first_appearance_time_video = first_appearance_time_video.filter(['teamFamily','team', 'user', 'task', 'timestamp', 'rank_video']).rename(\n",
    "                columns={'timestamp': 'timestamp_first_appearance_video', 'rank_video': 'rank_video_first_appearance'})\n",
    "        last_appearance_time = last_appearance_time.filter(['teamFamily','team', 'user', 'task', 'timestamp', 'rank_shot_margin_0']).rename(\n",
    "                columns={'timestamp': 'timestamp_last_appearance', 'rank_shot_margin_0': 'rank_shot_last_appearance'})\n",
    "\n",
    "        #setting best timestamp to np.inf if there is not a best video/shot\n",
    "        best_video_df.loc[df['rank_video'].isin([np.inf, -np.inf]), 'timestamp_best_video'] = -1\n",
    "        best_shot_df.loc[df['rank_shot_margin_0'].isin([np.inf, -np.inf]), 'timestamp_best_shot']=-1\n",
    "        best_shot_df_5secs.loc[df['rank_shot_margin_5'].isin([np.inf, -np.inf]), 'timestamp_best_shot_5secs'] = -1\n",
    "\n",
    "        df = best_video_df.merge(best_shot_df, on=['teamFamily','team', 'user', 'task'])\n",
    "        df = df.merge(best_shot_df_5secs, on=['teamFamily','team', 'user','task'])\n",
    "        df = df.merge(first_appearance_time, on=['teamFamily','team', 'user','task'], how=\"outer\")\n",
    "        df = df.merge(last_appearance_time, on=['teamFamily','team', 'user','task'], how=\"outer\")\n",
    "        df = df.merge(first_appearance_time_video, on=['teamFamily','team', 'user','task'], how=\"outer\")\n",
    "\n",
    "        # convert timestamps in actual seconds from the start of the task\n",
    "        df['task_start'] = df['task'].apply(lambda x: get_task_from_taskname(task_df,x)['started'])\n",
    "        df['time_best_video'] = (df['timestamp_best_video'] - df['task_start'])\n",
    "        df['time_best_shot'] = (df['timestamp_best_shot'] - df['task_start'])\n",
    "        df['time_first_appearance'] = (df['timestamp_first_appearance'] - df['task_start'])\n",
    "        df['time_first_appearance_video'] = (df['timestamp_first_appearance_video'] - df['task_start'])\n",
    "        df['time_last_appearance'] = (df['timestamp_last_appearance'] - df['task_start'])\n",
    "        df['time_best_shot_margin5'] = (df['timestamp_best_shot_5secs'] - df['task_start'])\n",
    "        #df['time_correct_submission'] = df.apply(lambda x: runreader.get_csts()[x['teamFamily','team']][x['task']] -\n",
    "        #                                                   runreader.tasks.get_task_from_taskname(x['task'])[\n",
    "        #                                                           'started'], axis=1)\n",
    "        fix_time_fun=lambda x: x / 1000 if x > 0 else np.inf\n",
    "        df['time_best_video'] = df['time_best_video'].astype(float).apply(fix_time_fun)\n",
    "        df['time_best_shot'] = df['time_best_shot'].astype(float).apply(fix_time_fun)\n",
    "        df['time_best_shot_margin5'] = df['time_best_shot_margin5'].astype(float).apply(fix_time_fun)\n",
    "        df['time_correct_submission'] = df['correct_submission_time_ms'].astype(float).apply(fix_time_fun)\n",
    "        df['time_first_appearance'] = df['time_first_appearance'].astype(float).apply(fix_time_fun)\n",
    "        df['time_first_appearance_video'] = df['time_first_appearance_video'].astype(float).apply(fix_time_fun)\n",
    "        df['time_last_appearance'] = df['time_last_appearance'].astype(float).apply(fix_time_fun)\n",
    "\n",
    "        df = df.round(decimals=0)\n",
    "\n",
    "        df = df.filter(['teamFamily','team', 'user', 'task', 'task_start', 'time_correct_submission', 'time_best_video', 'time_best_shot',\n",
    "                        'time_best_shot_margin5', 'rank_video', 'rank_shot_margin_0', 'rank_shot_margin_5',\n",
    "                        'rank_shot_margin_10', 'time_first_appearance', 'rank_shot_first_appearance', 'time_last_appearance', 'rank_shot_last_appearance',\n",
    "                        'time_first_appearance_video', 'rank_video_first_appearance'])\n",
    "\n",
    "        df.replace([np.inf, -np.inf, np.nan], -1, inplace=True)\n",
    "\n",
    "        return df\n",
    "\n"
   ],
   "metadata": {
    "collapsed": false,
    "pycharm": {
     "name": "#%%\n"
    }
   }
  },
  {
   "cell_type": "code",
   "execution_count": 46,
   "outputs": [],
   "source": [
    "#def aggregate_teamfamily(df):\n"
   ],
   "metadata": {
    "collapsed": false,
    "pycharm": {
     "name": "#%%\n"
    }
   }
  },
  {
   "cell_type": "code",
   "execution_count": 47,
   "outputs": [],
   "source": [
    "#penality function used to assess the best user of a team family\n",
    "#the best user is the one that did\n",
    "# def compute_user_penalty(df, max_records):\n",
    "#         rank_video_mod = df['rank_video'].replace(-1, max_records + 1)\n",
    "#         rank_shot_mod = df['rank_shot_margin_0'].replace(-1, max_records + 1)\n",
    "#         time_video_mod = df['time_best_video'].replace(-1, 1000)\n",
    "#         time_shot_mod = df['time_best_shot'].replace(-1, 1000)\n",
    "#\n",
    "#         task_duration = 420\n",
    "#         user_penalty = time_video_mod + \\\n",
    "#                 rank_video_mod * task_duration + \\\n",
    "#                 time_shot_mod * task_duration * max_records + \\\n",
    "#                 rank_shot_mod * (task_duration ** 2) * max_records\n",
    "#\n",
    "#         return user_penalty"
   ],
   "metadata": {
    "collapsed": false,
    "pycharm": {
     "name": "#%%\n"
    }
   }
  },
  {
   "cell_type": "code",
   "execution_count": 48,
   "outputs": [],
   "source": [
    "#for each task we should keep only the best user of the \"teamFamily\"\n",
    "#df_results\n",
    "# the best penalty contribution is given by the ranks. If they are equal, then the user that submitted earlier wins\n",
    "#user_penalty = compute_user_penalty(total_df, max_records)"
   ],
   "metadata": {
    "collapsed": false,
    "pycharm": {
     "name": "#%%\n"
    }
   }
  },
  {
   "cell_type": "markdown",
   "source": [
    "# Loading and processing data"
   ],
   "metadata": {
    "collapsed": false,
    "pycharm": {
     "name": "#%% md\n"
    }
   }
  },
  {
   "cell_type": "code",
   "execution_count": 49,
   "outputs": [
    {
     "name": "stdout",
     "output_type": "stream",
     "text": [
      "df_events: (4361, 14)\n",
      "df_results: (682, 18)\n"
     ]
    }
   ],
   "source": [
    "#loading tasks\n",
    "tasks_df = pd.read_csv(f\"{data_dir}/tasks.csv\")\n",
    "#loading submissions\n",
    "submissions_df = pd.read_csv(f\"{data_dir}/submissions.csv\")\n",
    "sub_count_df = get_submissions_count(submissions_df)\n",
    "\n",
    "#loading all teams results\n",
    "dfs = []\n",
    "dfs_events = []\n",
    "for f in os.listdir(events_dir):\n",
    "    team_df = pd.read_csv(os.path.abspath(f\"{events_dir}/{f}\"))\n",
    "    dfs_events.append(team_df)\n",
    "    team_df = get_team_values_df(team_df, submissions_df, tasks_df, max_records)\n",
    "    dfs.append(team_df)\n",
    "\n",
    "df_events=pd.concat(dfs_events,axis=0)\n",
    "df_results = pd.concat(dfs, axis=0)\n",
    "\n",
    "#df_results_aggregatedTeamFamily=aggregate_teamfamily(df_results)\n",
    "print(f\"df_events: {df_events.shape}\" )\n",
    "print(f\"df_results: {df_results.shape}\" )"
   ],
   "metadata": {
    "collapsed": false,
    "pycharm": {
     "name": "#%%\n"
    }
   }
  },
  {
   "cell_type": "code",
   "execution_count": 50,
   "outputs": [
    {
     "data": {
      "text/plain": "  teamFamily       team  user     task    task_start  time_correct_submission  \\\n0   cvhunter  cvhunter1     1  vbse001  1.668157e+12                     24.0   \n1   cvhunter  cvhunter1     1  vbse002  1.668158e+12                     -1.0   \n2   cvhunter  cvhunter1     1  vbse003  1.668158e+12                     87.0   \n3   cvhunter  cvhunter1     1  vbse004  1.668158e+12                     18.0   \n4   cvhunter  cvhunter1     1  vbse005  1.668158e+12                     13.0   \n\n   time_best_video  time_best_shot  time_best_shot_margin5  rank_video  \\\n0             14.0            14.0                    14.0         2.0   \n1            178.0           178.0                   178.0        96.0   \n2             35.0            35.0                    35.0        33.0   \n3             11.0            11.0                    11.0         3.0   \n4              9.0             9.0                     9.0         2.0   \n\n   rank_shot_margin_0  rank_shot_margin_5  time_first_appearance  \\\n0                 2.0                 2.0                   14.0   \n1                96.0                96.0                    8.0   \n2                33.0                33.0                    9.0   \n3                 3.0                 3.0                   11.0   \n4                 2.0                 2.0                    9.0   \n\n   rank_shot_first_appearance  time_last_appearance  \\\n0                         2.0                  15.0   \n1                       136.0                 263.0   \n2                        48.0                  35.0   \n3                         3.0                  11.0   \n4                         2.0                  10.0   \n\n   rank_shot_last_appearance  time_first_appearance_video  \\\n0                        2.0                         14.0   \n1                      135.0                          8.0   \n2                       33.0                          9.0   \n3                        3.0                         11.0   \n4                        2.0                          9.0   \n\n   rank_video_first_appearance  \n0                          2.0  \n1                        136.0  \n2                         46.0  \n3                          3.0  \n4                          2.0  ",
      "text/html": "<div>\n<style scoped>\n    .dataframe tbody tr th:only-of-type {\n        vertical-align: middle;\n    }\n\n    .dataframe tbody tr th {\n        vertical-align: top;\n    }\n\n    .dataframe thead th {\n        text-align: right;\n    }\n</style>\n<table border=\"1\" class=\"dataframe\">\n  <thead>\n    <tr style=\"text-align: right;\">\n      <th></th>\n      <th>teamFamily</th>\n      <th>team</th>\n      <th>user</th>\n      <th>task</th>\n      <th>task_start</th>\n      <th>time_correct_submission</th>\n      <th>time_best_video</th>\n      <th>time_best_shot</th>\n      <th>time_best_shot_margin5</th>\n      <th>rank_video</th>\n      <th>rank_shot_margin_0</th>\n      <th>rank_shot_margin_5</th>\n      <th>time_first_appearance</th>\n      <th>rank_shot_first_appearance</th>\n      <th>time_last_appearance</th>\n      <th>rank_shot_last_appearance</th>\n      <th>time_first_appearance_video</th>\n      <th>rank_video_first_appearance</th>\n    </tr>\n  </thead>\n  <tbody>\n    <tr>\n      <th>0</th>\n      <td>cvhunter</td>\n      <td>cvhunter1</td>\n      <td>1</td>\n      <td>vbse001</td>\n      <td>1.668157e+12</td>\n      <td>24.0</td>\n      <td>14.0</td>\n      <td>14.0</td>\n      <td>14.0</td>\n      <td>2.0</td>\n      <td>2.0</td>\n      <td>2.0</td>\n      <td>14.0</td>\n      <td>2.0</td>\n      <td>15.0</td>\n      <td>2.0</td>\n      <td>14.0</td>\n      <td>2.0</td>\n    </tr>\n    <tr>\n      <th>1</th>\n      <td>cvhunter</td>\n      <td>cvhunter1</td>\n      <td>1</td>\n      <td>vbse002</td>\n      <td>1.668158e+12</td>\n      <td>-1.0</td>\n      <td>178.0</td>\n      <td>178.0</td>\n      <td>178.0</td>\n      <td>96.0</td>\n      <td>96.0</td>\n      <td>96.0</td>\n      <td>8.0</td>\n      <td>136.0</td>\n      <td>263.0</td>\n      <td>135.0</td>\n      <td>8.0</td>\n      <td>136.0</td>\n    </tr>\n    <tr>\n      <th>2</th>\n      <td>cvhunter</td>\n      <td>cvhunter1</td>\n      <td>1</td>\n      <td>vbse003</td>\n      <td>1.668158e+12</td>\n      <td>87.0</td>\n      <td>35.0</td>\n      <td>35.0</td>\n      <td>35.0</td>\n      <td>33.0</td>\n      <td>33.0</td>\n      <td>33.0</td>\n      <td>9.0</td>\n      <td>48.0</td>\n      <td>35.0</td>\n      <td>33.0</td>\n      <td>9.0</td>\n      <td>46.0</td>\n    </tr>\n    <tr>\n      <th>3</th>\n      <td>cvhunter</td>\n      <td>cvhunter1</td>\n      <td>1</td>\n      <td>vbse004</td>\n      <td>1.668158e+12</td>\n      <td>18.0</td>\n      <td>11.0</td>\n      <td>11.0</td>\n      <td>11.0</td>\n      <td>3.0</td>\n      <td>3.0</td>\n      <td>3.0</td>\n      <td>11.0</td>\n      <td>3.0</td>\n      <td>11.0</td>\n      <td>3.0</td>\n      <td>11.0</td>\n      <td>3.0</td>\n    </tr>\n    <tr>\n      <th>4</th>\n      <td>cvhunter</td>\n      <td>cvhunter1</td>\n      <td>1</td>\n      <td>vbse005</td>\n      <td>1.668158e+12</td>\n      <td>13.0</td>\n      <td>9.0</td>\n      <td>9.0</td>\n      <td>9.0</td>\n      <td>2.0</td>\n      <td>2.0</td>\n      <td>2.0</td>\n      <td>9.0</td>\n      <td>2.0</td>\n      <td>10.0</td>\n      <td>2.0</td>\n      <td>9.0</td>\n      <td>2.0</td>\n    </tr>\n  </tbody>\n</table>\n</div>"
     },
     "execution_count": 50,
     "metadata": {},
     "output_type": "execute_result"
    }
   ],
   "source": [
    "df_results.head()"
   ],
   "metadata": {
    "collapsed": false,
    "pycharm": {
     "name": "#%%\n"
    }
   }
  },
  {
   "cell_type": "code",
   "execution_count": 51,
   "outputs": [
    {
     "data": {
      "text/plain": "      task       team  user      timestamp  elapsed_since_task_start_ms  \\\n0  vbse001  cvhunter1     1  1668157262045                      13678.0   \n1  vbse001  cvhunter1     1  1668157263040                      14673.0   \n2  vbse002  cvhunter1     1  1668157580162                       8188.0   \n3  vbse002  cvhunter1     1  1668157580949                       8975.0   \n4  vbse002  cvhunter1     1  1668157614097                      42123.0   \n\n   correct_submission_time_ms  rank_video  rank_shot_margin_0  \\\n0                     24219.0         2.0                 2.0   \n1                     24219.0         2.0                 2.0   \n2                         NaN       136.0               136.0   \n3                         NaN       136.0               136.0   \n4                         NaN      1161.0              1161.0   \n\n   rank_shot_margin_5 category            type  \\\n0                 2.0     TEXT  JointEmbedding   \n1                 2.0     TEXT  JointEmbedding   \n2               136.0     TEXT  JointEmbedding   \n3               136.0     TEXT  JointEmbedding   \n4              1161.0    IMAGE   feedbackModel   \n\n                                               value additionals teamFamily  \n0  CLIP: A woman holding a steaming mug close to ...          {}   cvhunter  \n1  CLIP: A woman holding a steaming mug close to ...          {}   cvhunter  \n2  CLIP: Viewer moving fast backwards on railway ...          {}   cvhunter  \n3  CLIP: Viewer moving fast backwards on railway ...          {}   cvhunter  \n4  Bayes CLIP 15821:2727_16612:962_12565:4812_522...          {}   cvhunter  ",
      "text/html": "<div>\n<style scoped>\n    .dataframe tbody tr th:only-of-type {\n        vertical-align: middle;\n    }\n\n    .dataframe tbody tr th {\n        vertical-align: top;\n    }\n\n    .dataframe thead th {\n        text-align: right;\n    }\n</style>\n<table border=\"1\" class=\"dataframe\">\n  <thead>\n    <tr style=\"text-align: right;\">\n      <th></th>\n      <th>task</th>\n      <th>team</th>\n      <th>user</th>\n      <th>timestamp</th>\n      <th>elapsed_since_task_start_ms</th>\n      <th>correct_submission_time_ms</th>\n      <th>rank_video</th>\n      <th>rank_shot_margin_0</th>\n      <th>rank_shot_margin_5</th>\n      <th>category</th>\n      <th>type</th>\n      <th>value</th>\n      <th>additionals</th>\n      <th>teamFamily</th>\n    </tr>\n  </thead>\n  <tbody>\n    <tr>\n      <th>0</th>\n      <td>vbse001</td>\n      <td>cvhunter1</td>\n      <td>1</td>\n      <td>1668157262045</td>\n      <td>13678.0</td>\n      <td>24219.0</td>\n      <td>2.0</td>\n      <td>2.0</td>\n      <td>2.0</td>\n      <td>TEXT</td>\n      <td>JointEmbedding</td>\n      <td>CLIP: A woman holding a steaming mug close to ...</td>\n      <td>{}</td>\n      <td>cvhunter</td>\n    </tr>\n    <tr>\n      <th>1</th>\n      <td>vbse001</td>\n      <td>cvhunter1</td>\n      <td>1</td>\n      <td>1668157263040</td>\n      <td>14673.0</td>\n      <td>24219.0</td>\n      <td>2.0</td>\n      <td>2.0</td>\n      <td>2.0</td>\n      <td>TEXT</td>\n      <td>JointEmbedding</td>\n      <td>CLIP: A woman holding a steaming mug close to ...</td>\n      <td>{}</td>\n      <td>cvhunter</td>\n    </tr>\n    <tr>\n      <th>2</th>\n      <td>vbse002</td>\n      <td>cvhunter1</td>\n      <td>1</td>\n      <td>1668157580162</td>\n      <td>8188.0</td>\n      <td>NaN</td>\n      <td>136.0</td>\n      <td>136.0</td>\n      <td>136.0</td>\n      <td>TEXT</td>\n      <td>JointEmbedding</td>\n      <td>CLIP: Viewer moving fast backwards on railway ...</td>\n      <td>{}</td>\n      <td>cvhunter</td>\n    </tr>\n    <tr>\n      <th>3</th>\n      <td>vbse002</td>\n      <td>cvhunter1</td>\n      <td>1</td>\n      <td>1668157580949</td>\n      <td>8975.0</td>\n      <td>NaN</td>\n      <td>136.0</td>\n      <td>136.0</td>\n      <td>136.0</td>\n      <td>TEXT</td>\n      <td>JointEmbedding</td>\n      <td>CLIP: Viewer moving fast backwards on railway ...</td>\n      <td>{}</td>\n      <td>cvhunter</td>\n    </tr>\n    <tr>\n      <th>4</th>\n      <td>vbse002</td>\n      <td>cvhunter1</td>\n      <td>1</td>\n      <td>1668157614097</td>\n      <td>42123.0</td>\n      <td>NaN</td>\n      <td>1161.0</td>\n      <td>1161.0</td>\n      <td>1161.0</td>\n      <td>IMAGE</td>\n      <td>feedbackModel</td>\n      <td>Bayes CLIP 15821:2727_16612:962_12565:4812_522...</td>\n      <td>{}</td>\n      <td>cvhunter</td>\n    </tr>\n  </tbody>\n</table>\n</div>"
     },
     "execution_count": 51,
     "metadata": {},
     "output_type": "execute_result"
    }
   ],
   "source": [
    "df_events.head()"
   ],
   "metadata": {
    "collapsed": false,
    "pycharm": {
     "name": "#%%\n"
    }
   }
  },
  {
   "cell_type": "code",
   "execution_count": 52,
   "outputs": [
    {
     "data": {
      "text/plain": "  taskName       team teamFamily  user    task_start      task_end  \\\n0  vbse001  cvhunter3   cvhunter     3  1.668157e+12  1.668158e+12   \n1  vbse001  cvhunter4   cvhunter     4  1.668157e+12  1.668158e+12   \n2  vbse001     vibro4      vibro     4  1.668157e+12  1.668158e+12   \n3  vbse001  cvhunter1   cvhunter     1  1.668157e+12  1.668158e+12   \n4  vbse001  cvhunter2   cvhunter     2  1.668157e+12  1.668158e+12   \n\n       timestamp                             sessionID   status  \n0  1668157260122  d4549039-edba-4f67-be8d-49631b50e3d1  CORRECT  \n1  1668157265367  af025988-70ba-4e86-8b9d-3004de40a677  CORRECT  \n2  1668157269373  eda40d9d-2a9e-44a7-81ab-fa9a826663ea  CORRECT  \n3  1668157272586  a2b6d319-7da0-4278-a13b-ae553c892168  CORRECT  \n4  1668157278121  c08385eb-b1ec-4ed5-ba19-9441104833d0  CORRECT  ",
      "text/html": "<div>\n<style scoped>\n    .dataframe tbody tr th:only-of-type {\n        vertical-align: middle;\n    }\n\n    .dataframe tbody tr th {\n        vertical-align: top;\n    }\n\n    .dataframe thead th {\n        text-align: right;\n    }\n</style>\n<table border=\"1\" class=\"dataframe\">\n  <thead>\n    <tr style=\"text-align: right;\">\n      <th></th>\n      <th>taskName</th>\n      <th>team</th>\n      <th>teamFamily</th>\n      <th>user</th>\n      <th>task_start</th>\n      <th>task_end</th>\n      <th>timestamp</th>\n      <th>sessionID</th>\n      <th>status</th>\n    </tr>\n  </thead>\n  <tbody>\n    <tr>\n      <th>0</th>\n      <td>vbse001</td>\n      <td>cvhunter3</td>\n      <td>cvhunter</td>\n      <td>3</td>\n      <td>1.668157e+12</td>\n      <td>1.668158e+12</td>\n      <td>1668157260122</td>\n      <td>d4549039-edba-4f67-be8d-49631b50e3d1</td>\n      <td>CORRECT</td>\n    </tr>\n    <tr>\n      <th>1</th>\n      <td>vbse001</td>\n      <td>cvhunter4</td>\n      <td>cvhunter</td>\n      <td>4</td>\n      <td>1.668157e+12</td>\n      <td>1.668158e+12</td>\n      <td>1668157265367</td>\n      <td>af025988-70ba-4e86-8b9d-3004de40a677</td>\n      <td>CORRECT</td>\n    </tr>\n    <tr>\n      <th>2</th>\n      <td>vbse001</td>\n      <td>vibro4</td>\n      <td>vibro</td>\n      <td>4</td>\n      <td>1.668157e+12</td>\n      <td>1.668158e+12</td>\n      <td>1668157269373</td>\n      <td>eda40d9d-2a9e-44a7-81ab-fa9a826663ea</td>\n      <td>CORRECT</td>\n    </tr>\n    <tr>\n      <th>3</th>\n      <td>vbse001</td>\n      <td>cvhunter1</td>\n      <td>cvhunter</td>\n      <td>1</td>\n      <td>1.668157e+12</td>\n      <td>1.668158e+12</td>\n      <td>1668157272586</td>\n      <td>a2b6d319-7da0-4278-a13b-ae553c892168</td>\n      <td>CORRECT</td>\n    </tr>\n    <tr>\n      <th>4</th>\n      <td>vbse001</td>\n      <td>cvhunter2</td>\n      <td>cvhunter</td>\n      <td>2</td>\n      <td>1.668157e+12</td>\n      <td>1.668158e+12</td>\n      <td>1668157278121</td>\n      <td>c08385eb-b1ec-4ed5-ba19-9441104833d0</td>\n      <td>CORRECT</td>\n    </tr>\n  </tbody>\n</table>\n</div>"
     },
     "execution_count": 52,
     "metadata": {},
     "output_type": "execute_result"
    }
   ],
   "source": [
    "submissions_df.head() #contains submission of each task"
   ],
   "metadata": {
    "collapsed": false,
    "pycharm": {
     "name": "#%%\n"
    }
   }
  },
  {
   "cell_type": "markdown",
   "source": [
    " ## Render table with all the team results\n"
   ],
   "metadata": {
    "collapsed": false,
    "pycharm": {
     "name": "#%% md\n"
    }
   }
  },
  {
   "cell_type": "code",
   "execution_count": 53,
   "outputs": [],
   "source": [
    "def TimeRecallTable(df,teams, output_dir=output_dir):\n",
    "\n",
    "        # drop unuseful columns from df that has the structure of df_results\n",
    "        df = df.drop(\n",
    "            ['time_first_appearance', 'rank_shot_first_appearance', 'time_last_appearance', 'rank_shot_last_appearance',\n",
    "             'time_first_appearance_video', 'rank_video_first_appearance'], axis=1)\n",
    "\n",
    "        df.drop(columns='task_start', inplace=True)\n",
    "\n",
    "        df = df.fillna(-1)\n",
    "        col = [c for c in df.columns.values.tolist() if c != 'team' and c != 'task' and c != 'user' and c != 'teamFamily' ]\n",
    "        df[col] = df[col].astype('int32')\n",
    "        df[col] = df[col].applymap(lambda x: -1 if x < 0 else x)\n",
    "        df = df.astype('str')\n",
    "        df.replace(['-1'], '-', inplace=True)\n",
    "\n",
    "\n",
    "        # aggregate\n",
    "        agg_dic = {c: (lambda x: ' / '.join(x)) for c in col}\n",
    "        agg_dic['time_correct_submission'] = \"min\"\n",
    "        df = df.groupby(['team', 'task'])[col].agg(agg_dic).reset_index()\n",
    "        df.replace('- / -', '-', regex=True, inplace=True)\n",
    "        add_second = lambda x: x if x == '-' else x + 's'\n",
    "        df['time_correct_submission'] = df['time_correct_submission'].apply(add_second)\n",
    "        df['time_best_shot'] = df['time_best_shot'].apply(add_second)\n",
    "        df['time_best_video'] = df['time_best_video'].apply(add_second)\n",
    "        df = df.melt(var_name=\"metric\", id_vars=[\"team\", \"task\"], value_name=\"value\")\n",
    "        df['unit'] = df['metric'].apply(lambda x: 'rank' if x.startswith('rank_') else 'time')\n",
    "        replace_dic = {\n",
    "            'rank_shot_margin_0': 'correct frame',\n",
    "            'time_best_shot': 'correct frame',\n",
    "            'rank_shot_margin_5': 'frame in GT+2x5s',\n",
    "            'time_best_shot_margin5': 'frame in GT+2x5s',\n",
    "            'rank_video': 'correct video',\n",
    "            'time_best_video': 'correct video',\n",
    "            'time_correct_submission': 'correct submission'\n",
    "        }\n",
    "        df['metric'] = df['metric'].map(replace_dic)\n",
    "        df = df.pivot(index=['team', 'metric', 'unit'], columns=\"task\", values=\"value\")\n",
    "        df = df.fillna('!')\n",
    "\n",
    "        # sorting index desired order\n",
    "        level_0 = teams  # order in the conf file\n",
    "        level_1 = ['correct frame', 'frame in GT+2x5s', 'correct video','correct submission']\n",
    "        level_2 = ['rank', 'time']\n",
    "        df = df.reindex(pd.MultiIndex.from_product([level_0, level_1, level_2]))\n",
    "        df.dropna(axis=0, inplace=True)  # 'correct submission'/rank shluld not be in the index\n",
    "        print(df)\n",
    "        print(f\"Saving: {output_dir}/time_recall_table_withMargin5_vbse2022.csv\")\n",
    "        df.to_csv(f\"{output_dir}/time_recall_table_withMargin5_vbse2022.csv\")\n",
    "        # sorting index desired order\n",
    "        level_0 = teams  # order in the conf file\n",
    "        level_1 = ['correct frame', 'correct video','correct submission']\n",
    "        level_2 = ['rank', 'time']\n",
    "        df = df.reindex(pd.MultiIndex.from_product([level_0, level_1, level_2]))\n",
    "        df.dropna(axis=0, inplace=True)  # 'correct submission'/rank shluld not be in the index\n",
    "        df.to_csv(f\"{output_dir}/time_recall_table_vbse2022.csv\")\n",
    "        print(f\"Saving: {output_dir}/time_recall_table_vbse2022.csv\")\n",
    "        return df\n",
    "\n"
   ],
   "metadata": {
    "collapsed": false,
    "pycharm": {
     "name": "#%%\n"
    }
   }
  },
  {
   "cell_type": "code",
   "execution_count": 54,
   "outputs": [
    {
     "name": "stdout",
     "output_type": "stream",
     "text": [
      "task                              vbse001 vbse002 vbse003 vbse004 vbse005  \\\n",
      "cvhunter1 correct frame      rank       2      96      33       3       2   \n",
      "                             time     14s    178s     35s     11s      9s   \n",
      "          frame in GT+2x5s   rank       2      96      33       3       2   \n",
      "                             time      14     178      35      11       9   \n",
      "          correct video      rank       2      96      33       3       2   \n",
      "...                                   ...     ...     ...     ...     ...   \n",
      "vibro4    frame in GT+2x5s   rank      47     404       1       6       1   \n",
      "                             time       6     190     259       6       6   \n",
      "          correct video      rank      47       4       1       6       1   \n",
      "                             time      6s    190s     31s      6s      6s   \n",
      "          correct submission time     21s    216s    263s     16s     22s   \n",
      "\n",
      "task                              vbse006 vbse007 vbse008 vbse009 vbse010  \\\n",
      "cvhunter1 correct frame      rank     105       6    4069      12     173   \n",
      "                             time      9s      9s      8s      8s     66s   \n",
      "          frame in GT+2x5s   rank     105       6    2113      12     173   \n",
      "                             time       9       9     112       8      66   \n",
      "          correct video      rank      42       6      17      12      81   \n",
      "...                                   ...     ...     ...     ...     ...   \n",
      "vibro4    frame in GT+2x5s   rank      10      27     223      99     159   \n",
      "                             time       6       5     173       8      79   \n",
      "          correct video      rank      10      27      21      99     159   \n",
      "                             time      6s      5s      6s      8s     79s   \n",
      "          correct submission time     51s     40s       -     37s    101s   \n",
      "\n",
      "task                               ... vbse051 vbse052 vbse053 vbse054  \\\n",
      "cvhunter1 correct frame      rank  ...     253       2       3    4949   \n",
      "                             time  ...    233s    119s     57s    245s   \n",
      "          frame in GT+2x5s   rank  ...     253       2       3    1699   \n",
      "                             time  ...     233     119      57      66   \n",
      "          correct video      rank  ...     246       2       3     656   \n",
      "...                                ...     ...     ...     ...     ...   \n",
      "vibro4    frame in GT+2x5s   rank  ...      51      13     326       1   \n",
      "                             time  ...       7      28       6     137   \n",
      "          correct video      rank  ...      19      13      45       1   \n",
      "                             time  ...      7s     28s      6s    137s   \n",
      "          correct submission time  ...     17s     41s     19s    209s   \n",
      "\n",
      "task                              vbse055 vbse056 vbse057 vbse058 vbse059  \\\n",
      "cvhunter1 correct frame      rank       -       -       -      26     135   \n",
      "                             time       -       -       -      5s     94s   \n",
      "          frame in GT+2x5s   rank     521     156      19      24      11   \n",
      "                             time       7     292     198       5      94   \n",
      "          correct video      rank       5      21      19      16      11   \n",
      "...                                   ...     ...     ...     ...     ...   \n",
      "vibro4    frame in GT+2x5s   rank       -      19     585      23     492   \n",
      "                             time       -      89      41     128       8   \n",
      "          correct video      rank       1       8      14      18      79   \n",
      "                             time     68s     82s     41s    128s      8s   \n",
      "          correct submission time    116s    146s     87s    162s    105s   \n",
      "\n",
      "task                              vbse060  \n",
      "cvhunter1 correct frame      rank       1  \n",
      "                             time     88s  \n",
      "          frame in GT+2x5s   rank       1  \n",
      "                             time      88  \n",
      "          correct video      rank       1  \n",
      "...                                   ...  \n",
      "vibro4    frame in GT+2x5s   rank      54  \n",
      "                             time      54  \n",
      "          correct video      rank       9  \n",
      "                             time      8s  \n",
      "          correct submission time     61s  \n",
      "\n",
      "[84 rows x 57 columns]\n",
      "Saving: D:\\Work\\Dev\\workspacePYTHON\\PycharmProjects\\VBSE-2022/output/time_recall_table_withMargin5_vbse2022.csv\n",
      "Saving: D:\\Work\\Dev\\workspacePYTHON\\PycharmProjects\\VBSE-2022/output/time_recall_table_vbse2022.csv\n"
     ]
    }
   ],
   "source": [
    "time_recall_table_df=TimeRecallTable(df_results, teams)"
   ],
   "metadata": {
    "collapsed": false,
    "pycharm": {
     "name": "#%%\n"
    }
   }
  },
  {
   "cell_type": "markdown",
   "source": [
    "## COMPUTING DRES SCORES\n",
    "both using original teams and teams aggregated by 'teamFamily'"
   ],
   "metadata": {
    "collapsed": false,
    "pycharm": {
     "name": "#%% md\n"
    }
   }
  },
  {
   "cell_type": "code",
   "execution_count": 55,
   "outputs": [],
   "source": [
    "#adding ncorrect and wrong submissions\n",
    "#df_res_sub=df_results.merge(sub_count_df, on=[\"task\",\"team\",\"teamFamily\",\"user\"], how=\"outer\").fillna(0)\n",
    "#df_res_sub"
   ],
   "metadata": {
    "collapsed": false,
    "pycharm": {
     "name": "#%%\n"
    }
   }
  },
  {
   "cell_type": "code",
   "execution_count": 56,
   "outputs": [],
   "source": [
    "def dres_KIS_score(index_firstCorrect,time_correct_submission, tDur):\n",
    "        #todo: to be checked I used sa formula I found at https://github.com/dres-dev/DRES/blob/37bfa448852a090c564b7519b8c08292f71ede36/backend/src/main/kotlin/dev/dres/run/score/scorer/KisTaskScorer.kt\n",
    "        #index of first correct submission is -1 if there are no correct submission ortherwise is equal to  number of not correct submissions\n",
    "        #tDur=  actual duration of task, in case it was extended during competition.\n",
    "        maxPointsPerTask = 100.0\n",
    "        maxPointsAtTaskEnd = 50.0\n",
    "        penaltyPerWrongSubmission = 10.0\n",
    "\n",
    "        score=0.0\n",
    "        if index_firstCorrect>-1:\n",
    "                timeFraction =1.0-time_correct_submission/tDur\n",
    "                score=  max(0.0,maxPointsAtTaskEnd + ((maxPointsPerTask - maxPointsAtTaskEnd) * timeFraction) - (index_firstCorrect * penaltyPerWrongSubmission) )\n",
    "        return score\n",
    "\n",
    "def compute_team_scores(df,sub_df, aggregate_by_teamFamily=False): ##NOT WORKING!!!!!!TO BE FIXED\n",
    "        scores=[]\n",
    "        task_lists=df['task'].unique()\n",
    "        if(aggregate_by_teamFamily):\n",
    "                df['team']=df['teamFamily']\n",
    "\n",
    "        teams_lists=df['team'].unique()\n",
    "        print(teams_lists)\n",
    "\n",
    "        for task,team in itertools.product(task_lists, teams_lists):\n",
    "                sub_team_task=sub_df.loc[(sub_df['team'].str.startswith(team)) & (sub_df['taskName']==task) ]\n",
    "                sub_team_task=sub_team_task.sort_values(by=['timestamp']).reset_index()\n",
    "                score_team_task=0.0\n",
    "\n",
    "                if len(sub_team_task.index)>0:\n",
    "                        correct_sub=sub_team_task [sub_team_task['status']=='CORRECT']\n",
    "                        if(len(correct_sub.index)>0):\n",
    "                                firstCorrect=correct_sub.iloc[0]\n",
    "                                timestamp=firstCorrect['timestamp']\n",
    "                                time_correct_submission=timestamp-firstCorrect['task_start'] #milliseconds\n",
    "                                tDur=firstCorrect['task_end']-firstCorrect['task_start']\n",
    "                                index_firstCorrect=firstCorrect['index']\n",
    "                                score_team_task=dres_KIS_score(index_firstCorrect,time_correct_submission, tDur)\n",
    "\n",
    "                scores.append({'team': team, 'task':task, 'score': score_team_task })\n",
    "        return pd.DataFrame(scores)"
   ],
   "metadata": {
    "collapsed": false,
    "pycharm": {
     "name": "#%%\n"
    }
   }
  },
  {
   "cell_type": "code",
   "execution_count": 57,
   "outputs": [
    {
     "name": "stdout",
     "output_type": "stream",
     "text": [
      "['cvhunter1' 'cvhunter2' 'cvhunter3' 'cvhunter4' 'vibro1' 'vibro2'\n",
      " 'vibro3' 'vibro4' 'visione1' 'visione2' 'visione3' 'visione4']\n",
      "['cvhunter' 'vibro' 'visione']\n"
     ]
    }
   ],
   "source": [
    "##NOT WORKING!!!!!!TO BE FIXED\n",
    "\n",
    "team_scores_df=compute_team_scores(df_results,submissions_df)\n",
    "teamFamily_scores_df=compute_team_scores(df_results,submissions_df, aggregate_by_teamFamily=True)"
   ],
   "metadata": {
    "collapsed": false,
    "pycharm": {
     "name": "#%%\n"
    }
   }
  },
  {
   "cell_type": "code",
   "execution_count": 58,
   "outputs": [
    {
     "data": {
      "text/plain": "          team     task      score\n0    cvhunter1  vbse001  65.963594\n1    cvhunter2  vbse001  55.041116\n2    cvhunter3  vbse001  98.040879\n3    cvhunter4  vbse001  87.166733\n4       vibro1  vbse001   0.000000\n..         ...      ...        ...\n679     vibro4  vbse060   0.000000\n680   visione1  vbse060   0.000000\n681   visione2  vbse060   0.000000\n682   visione3  vbse060   0.000000\n683   visione4  vbse060   0.000000\n\n[684 rows x 3 columns]",
      "text/html": "<div>\n<style scoped>\n    .dataframe tbody tr th:only-of-type {\n        vertical-align: middle;\n    }\n\n    .dataframe tbody tr th {\n        vertical-align: top;\n    }\n\n    .dataframe thead th {\n        text-align: right;\n    }\n</style>\n<table border=\"1\" class=\"dataframe\">\n  <thead>\n    <tr style=\"text-align: right;\">\n      <th></th>\n      <th>team</th>\n      <th>task</th>\n      <th>score</th>\n    </tr>\n  </thead>\n  <tbody>\n    <tr>\n      <th>0</th>\n      <td>cvhunter1</td>\n      <td>vbse001</td>\n      <td>65.963594</td>\n    </tr>\n    <tr>\n      <th>1</th>\n      <td>cvhunter2</td>\n      <td>vbse001</td>\n      <td>55.041116</td>\n    </tr>\n    <tr>\n      <th>2</th>\n      <td>cvhunter3</td>\n      <td>vbse001</td>\n      <td>98.040879</td>\n    </tr>\n    <tr>\n      <th>3</th>\n      <td>cvhunter4</td>\n      <td>vbse001</td>\n      <td>87.166733</td>\n    </tr>\n    <tr>\n      <th>4</th>\n      <td>vibro1</td>\n      <td>vbse001</td>\n      <td>0.000000</td>\n    </tr>\n    <tr>\n      <th>...</th>\n      <td>...</td>\n      <td>...</td>\n      <td>...</td>\n    </tr>\n    <tr>\n      <th>679</th>\n      <td>vibro4</td>\n      <td>vbse060</td>\n      <td>0.000000</td>\n    </tr>\n    <tr>\n      <th>680</th>\n      <td>visione1</td>\n      <td>vbse060</td>\n      <td>0.000000</td>\n    </tr>\n    <tr>\n      <th>681</th>\n      <td>visione2</td>\n      <td>vbse060</td>\n      <td>0.000000</td>\n    </tr>\n    <tr>\n      <th>682</th>\n      <td>visione3</td>\n      <td>vbse060</td>\n      <td>0.000000</td>\n    </tr>\n    <tr>\n      <th>683</th>\n      <td>visione4</td>\n      <td>vbse060</td>\n      <td>0.000000</td>\n    </tr>\n  </tbody>\n</table>\n<p>684 rows × 3 columns</p>\n</div>"
     },
     "execution_count": 58,
     "metadata": {},
     "output_type": "execute_result"
    }
   ],
   "source": [
    "team_scores_df"
   ],
   "metadata": {
    "collapsed": false,
    "pycharm": {
     "name": "#%%\n"
    }
   }
  },
  {
   "cell_type": "code",
   "execution_count": 59,
   "outputs": [
    {
     "data": {
      "text/plain": "         team     task      score\n0    cvhunter  vbse001  98.040879\n1       vibro  vbse001  76.499082\n2     visione  vbse001  16.003827\n3    cvhunter  vbse002   0.000000\n4       vibro  vbse002   0.000000\n..        ...      ...        ...\n166     vibro  vbse059   0.000000\n167   visione  vbse059   0.000000\n168  cvhunter  vbse060   0.000000\n169     vibro  vbse060   0.000000\n170   visione  vbse060   0.000000\n\n[171 rows x 3 columns]",
      "text/html": "<div>\n<style scoped>\n    .dataframe tbody tr th:only-of-type {\n        vertical-align: middle;\n    }\n\n    .dataframe tbody tr th {\n        vertical-align: top;\n    }\n\n    .dataframe thead th {\n        text-align: right;\n    }\n</style>\n<table border=\"1\" class=\"dataframe\">\n  <thead>\n    <tr style=\"text-align: right;\">\n      <th></th>\n      <th>team</th>\n      <th>task</th>\n      <th>score</th>\n    </tr>\n  </thead>\n  <tbody>\n    <tr>\n      <th>0</th>\n      <td>cvhunter</td>\n      <td>vbse001</td>\n      <td>98.040879</td>\n    </tr>\n    <tr>\n      <th>1</th>\n      <td>vibro</td>\n      <td>vbse001</td>\n      <td>76.499082</td>\n    </tr>\n    <tr>\n      <th>2</th>\n      <td>visione</td>\n      <td>vbse001</td>\n      <td>16.003827</td>\n    </tr>\n    <tr>\n      <th>3</th>\n      <td>cvhunter</td>\n      <td>vbse002</td>\n      <td>0.000000</td>\n    </tr>\n    <tr>\n      <th>4</th>\n      <td>vibro</td>\n      <td>vbse002</td>\n      <td>0.000000</td>\n    </tr>\n    <tr>\n      <th>...</th>\n      <td>...</td>\n      <td>...</td>\n      <td>...</td>\n    </tr>\n    <tr>\n      <th>166</th>\n      <td>vibro</td>\n      <td>vbse059</td>\n      <td>0.000000</td>\n    </tr>\n    <tr>\n      <th>167</th>\n      <td>visione</td>\n      <td>vbse059</td>\n      <td>0.000000</td>\n    </tr>\n    <tr>\n      <th>168</th>\n      <td>cvhunter</td>\n      <td>vbse060</td>\n      <td>0.000000</td>\n    </tr>\n    <tr>\n      <th>169</th>\n      <td>vibro</td>\n      <td>vbse060</td>\n      <td>0.000000</td>\n    </tr>\n    <tr>\n      <th>170</th>\n      <td>visione</td>\n      <td>vbse060</td>\n      <td>0.000000</td>\n    </tr>\n  </tbody>\n</table>\n<p>171 rows × 3 columns</p>\n</div>"
     },
     "execution_count": 59,
     "metadata": {},
     "output_type": "execute_result"
    }
   ],
   "source": [
    "teamFamily_scores_df"
   ],
   "metadata": {
    "collapsed": false,
    "pycharm": {
     "name": "#%%\n"
    }
   }
  },
  {
   "cell_type": "code",
   "execution_count": 59,
   "outputs": [],
   "source": [],
   "metadata": {
    "collapsed": false,
    "pycharm": {
     "name": "#%%\n"
    }
   }
  }
 ],
 "metadata": {
  "kernelspec": {
   "display_name": "Python 3",
   "language": "python",
   "name": "python3"
  },
  "language_info": {
   "codemirror_mode": {
    "name": "ipython",
    "version": 2
   },
   "file_extension": ".py",
   "mimetype": "text/x-python",
   "name": "python",
   "nbconvert_exporter": "python",
   "pygments_lexer": "ipython2",
   "version": "2.7.6"
  }
 },
 "nbformat": 4,
 "nbformat_minor": 0
}